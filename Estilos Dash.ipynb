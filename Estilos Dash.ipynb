{
 "cells": [
  {
   "cell_type": "code",
   "execution_count": 1,
   "metadata": {},
   "outputs": [
    {
     "name": "stderr",
     "output_type": "stream",
     "text": [
      "C:\\Users\\jalvear\\AppData\\Local\\Temp\\ipykernel_23452\\954449312.py:2: UserWarning: \n",
      "The dash_core_components package is deprecated. Please replace\n",
      "`import dash_core_components as dcc` with `from dash import dcc`\n",
      "  import dash_core_components as dcc\n",
      "C:\\Users\\jalvear\\AppData\\Local\\Temp\\ipykernel_23452\\954449312.py:3: UserWarning: \n",
      "The dash_html_components package is deprecated. Please replace\n",
      "`import dash_html_components as html` with `from dash import html`\n",
      "  import dash_html_components as html\n"
     ]
    }
   ],
   "source": [
    "import dash\n",
    "import dash_core_components as dcc\n",
    "import dash_html_components as html"
   ]
  },
  {
   "cell_type": "code",
   "execution_count": 2,
   "metadata": {},
   "outputs": [],
   "source": [
    "colores = {'fondo':'#111111', 'texto':'#EEEEEE', 'titulo':'green'}"
   ]
  },
  {
   "cell_type": "code",
   "execution_count": 3,
   "metadata": {},
   "outputs": [],
   "source": [
    "app = dash.Dash()\n",
    "\n",
    "app.layout = html.Div(children=[\n",
    "                    html.H1('Aplicación web con Dash', style={'color':colores['texto'], 'textAlign':'center'}),\n",
    "                    dcc.Graph(\n",
    "                            id='grafico1',\n",
    "                            figure = {'data':[\n",
    "                                            {'x':[1,2,3],'y':[4,5,2],'type':'bar','name':'datos1'},\n",
    "                                            {'x':[1,2,3],'y':[3,4,1],'type':'bar','name':'datos2'}\n",
    "                                            ],\n",
    "                                      'layout':{\n",
    "                                            'title':'Gráfico con Dash',\n",
    "                                            'plot_bgcolor':colores['fondo'],\n",
    "                                            'paper_bgcolor':colores['fondo'],\n",
    "                                            'font':{'color':colores['texto']}\n",
    "                                        }\n",
    "                            })\n",
    "\n",
    "                   ],\n",
    "                    style={'backgroundColor':colores['fondo']}\n",
    "                    \n",
    "                )"
   ]
  },
  {
   "cell_type": "code",
   "execution_count": 4,
   "metadata": {},
   "outputs": [
    {
     "name": "stdout",
     "output_type": "stream",
     "text": [
      "Dash is running on http://127.0.0.1:8050/\n",
      "\n",
      " * Serving Flask app \"__main__\" (lazy loading)\n",
      " * Environment: production\n",
      "\u001b[31m   WARNING: This is a development server. Do not use it in a production deployment.\u001b[0m\n",
      "\u001b[2m   Use a production WSGI server instead.\u001b[0m\n",
      " * Debug mode: off\n"
     ]
    },
    {
     "name": "stderr",
     "output_type": "stream",
     "text": [
      " * Running on http://127.0.0.1:8050/ (Press CTRL+C to quit)\n",
      "127.0.0.1 - - [14/Dec/2022 09:22:35] \"GET / HTTP/1.1\" 200 -\n",
      "127.0.0.1 - - [14/Dec/2022 09:22:35] \"GET /_dash-layout HTTP/1.1\" 200 -\n",
      "127.0.0.1 - - [14/Dec/2022 09:22:35] \"GET /_dash-dependencies HTTP/1.1\" 200 -\n",
      "127.0.0.1 - - [14/Dec/2022 09:22:35] \"GET /_favicon.ico?v=2.7.1 HTTP/1.1\" 200 -\n",
      "127.0.0.1 - - [14/Dec/2022 09:22:35] \"GET /_dash-component-suites/dash/dcc/async-graph.js HTTP/1.1\" 200 -\n",
      "127.0.0.1 - - [14/Dec/2022 09:22:35] \"GET /_dash-component-suites/dash/dcc/async-plotlyjs.js HTTP/1.1\" 200 -\n",
      "127.0.0.1 - - [14/Dec/2022 09:30:43] \"GET / HTTP/1.1\" 200 -\n",
      "127.0.0.1 - - [14/Dec/2022 09:30:43] \"GET /_dash-component-suites/dash/deps/prop-types@15.v2_7_1m1670860984.8.1.min.js HTTP/1.1\" 200 -\n",
      "127.0.0.1 - - [14/Dec/2022 09:30:43] \"GET /_dash-component-suites/dash/deps/react@16.v2_7_1m1670860984.14.0.min.js HTTP/1.1\" 200 -\n",
      "127.0.0.1 - - [14/Dec/2022 09:30:43] \"GET /_dash-component-suites/dash/deps/polyfill@7.v2_7_1m1670860984.12.1.min.js HTTP/1.1\" 200 -\n",
      "127.0.0.1 - - [14/Dec/2022 09:30:43] \"GET /_dash-component-suites/dash/deps/react-dom@16.v2_7_1m1670860984.14.0.min.js HTTP/1.1\" 200 -\n",
      "127.0.0.1 - - [14/Dec/2022 09:30:43] \"GET /_dash-component-suites/dash/dash-renderer/build/dash_renderer.v2_7_1m1670860983.min.js HTTP/1.1\" 200 -\n",
      "127.0.0.1 - - [14/Dec/2022 09:30:43] \"GET /_dash-component-suites/dash/dcc/dash_core_components.v2_7_1m1670860984.js HTTP/1.1\" 200 -\n",
      "127.0.0.1 - - [14/Dec/2022 09:30:43] \"GET /_dash-component-suites/dash/dcc/dash_core_components-shared.v2_7_1m1670860984.js HTTP/1.1\" 200 -\n",
      "127.0.0.1 - - [14/Dec/2022 09:30:43] \"GET /_dash-component-suites/dash/dash_table/bundle.v5_2_1m1670860983.js HTTP/1.1\" 200 -\n",
      "127.0.0.1 - - [14/Dec/2022 09:30:43] \"GET /_dash-component-suites/dash/html/dash_html_components.v2_0_7m1670860985.min.js HTTP/1.1\" 200 -\n",
      "127.0.0.1 - - [14/Dec/2022 09:30:43] \"GET /_dash-layout HTTP/1.1\" 200 -\n",
      "127.0.0.1 - - [14/Dec/2022 09:30:43] \"GET /_dash-dependencies HTTP/1.1\" 200 -\n",
      "127.0.0.1 - - [14/Dec/2022 09:30:43] \"GET /_favicon.ico?v=2.7.1 HTTP/1.1\" 200 -\n",
      "127.0.0.1 - - [14/Dec/2022 09:30:43] \"GET /_dash-component-suites/dash/dcc/async-graph.js HTTP/1.1\" 200 -\n",
      "127.0.0.1 - - [14/Dec/2022 09:30:43] \"GET /_dash-component-suites/dash/dcc/async-plotlyjs.js HTTP/1.1\" 200 -\n",
      "127.0.0.1 - - [14/Dec/2022 09:31:30] \"GET / HTTP/1.1\" 200 -\n",
      "127.0.0.1 - - [14/Dec/2022 09:31:30] \"GET /_dash-layout HTTP/1.1\" 200 -\n",
      "127.0.0.1 - - [14/Dec/2022 09:31:30] \"GET /_dash-dependencies HTTP/1.1\" 200 -\n",
      "127.0.0.1 - - [14/Dec/2022 09:31:30] \"GET /_dash-component-suites/dash/dcc/async-graph.js HTTP/1.1\" 200 -\n",
      "127.0.0.1 - - [14/Dec/2022 09:31:30] \"GET /_dash-component-suites/dash/dcc/async-plotlyjs.js HTTP/1.1\" 200 -\n",
      "127.0.0.1 - - [14/Dec/2022 09:31:47] \"GET / HTTP/1.1\" 200 -\n",
      "127.0.0.1 - - [14/Dec/2022 09:31:47] \"GET /_dash-layout HTTP/1.1\" 200 -\n",
      "127.0.0.1 - - [14/Dec/2022 09:31:47] \"GET /_dash-dependencies HTTP/1.1\" 200 -\n",
      "127.0.0.1 - - [14/Dec/2022 09:31:47] \"GET /_dash-component-suites/dash/dcc/async-graph.js HTTP/1.1\" 200 -\n",
      "127.0.0.1 - - [14/Dec/2022 09:31:47] \"GET /_dash-component-suites/dash/dcc/async-plotlyjs.js HTTP/1.1\" 200 -\n",
      "127.0.0.1 - - [14/Dec/2022 10:13:08] \"GET /_dash-component-suites/dash/dcc/async-graph.js.map HTTP/1.1\" 200 -\n",
      "127.0.0.1 - - [14/Dec/2022 10:13:08] \"GET /_dash-component-suites/dash/dcc/dash_core_components-shared.js.map HTTP/1.1\" 200 -\n",
      "127.0.0.1 - - [14/Dec/2022 10:13:08] \"GET /_dash-component-suites/dash/dash_table/bundle.js.map HTTP/1.1\" 200 -\n",
      "127.0.0.1 - - [14/Dec/2022 10:13:08] \"GET /_dash-component-suites/dash/html/dash_html_components.min.js.map HTTP/1.1\" 200 -\n",
      "127.0.0.1 - - [14/Dec/2022 10:13:08] \"GET /_dash-component-suites/dash/dcc/dash_core_components.js.map HTTP/1.1\" 200 -\n",
      "127.0.0.1 - - [14/Dec/2022 11:44:23] \"GET / HTTP/1.1\" 200 -\n",
      "127.0.0.1 - - [14/Dec/2022 11:44:24] \"GET /_dash-layout HTTP/1.1\" 200 -\n",
      "127.0.0.1 - - [14/Dec/2022 11:44:24] \"GET /_dash-dependencies HTTP/1.1\" 200 -\n",
      "127.0.0.1 - - [14/Dec/2022 11:44:24] \"GET /_dash-component-suites/dash/dcc/async-graph.js HTTP/1.1\" 200 -\n",
      "127.0.0.1 - - [14/Dec/2022 11:44:24] \"GET /_dash-component-suites/dash/dcc/async-plotlyjs.js HTTP/1.1\" 200 -\n"
     ]
    }
   ],
   "source": [
    "if __name__ == '__main__':\n",
    "        app.run_server()"
   ]
  }
 ],
 "metadata": {
  "kernelspec": {
   "display_name": "Python 3 (ipykernel)",
   "language": "python",
   "name": "python3"
  },
  "language_info": {
   "codemirror_mode": {
    "name": "ipython",
    "version": 3
   },
   "file_extension": ".py",
   "mimetype": "text/x-python",
   "name": "python",
   "nbconvert_exporter": "python",
   "pygments_lexer": "ipython3",
   "version": "3.9.13"
  }
 },
 "nbformat": 4,
 "nbformat_minor": 4
}
