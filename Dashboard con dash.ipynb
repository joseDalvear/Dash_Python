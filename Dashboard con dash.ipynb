{
 "cells": [
  {
   "cell_type": "markdown",
   "id": "c00d91ab",
   "metadata": {},
   "source": [
    "# Dashboards Insteractivos con Python (Dash)"
   ]
  },
  {
   "cell_type": "code",
   "execution_count": 2,
   "id": "b35dc53c",
   "metadata": {},
   "outputs": [
    {
     "name": "stdout",
     "output_type": "stream",
     "text": [
      "Collecting dash\n",
      "  Downloading dash-2.7.1-py3-none-any.whl (9.9 MB)\n",
      "     ---------------------------------------- 9.9/9.9 MB 9.1 MB/s eta 0:00:00\n",
      "Collecting dash-html-components==2.0.0\n",
      "  Downloading dash_html_components-2.0.0-py3-none-any.whl (4.1 kB)\n",
      "Requirement already satisfied: Flask>=1.0.4 in c:\\users\\jalvear\\anaconda3\\lib\\site-packages (from dash) (1.1.2)\n",
      "Collecting dash-core-components==2.0.0\n",
      "  Downloading dash_core_components-2.0.0-py3-none-any.whl (3.8 kB)\n",
      "Requirement already satisfied: plotly>=5.0.0 in c:\\users\\jalvear\\anaconda3\\lib\\site-packages (from dash) (5.9.0)\n",
      "Collecting dash-table==5.0.0\n",
      "  Downloading dash_table-5.0.0-py3-none-any.whl (3.9 kB)\n",
      "Requirement already satisfied: Werkzeug>=0.15 in c:\\users\\jalvear\\anaconda3\\lib\\site-packages (from Flask>=1.0.4->dash) (2.0.3)\n",
      "Requirement already satisfied: itsdangerous>=0.24 in c:\\users\\jalvear\\anaconda3\\lib\\site-packages (from Flask>=1.0.4->dash) (2.0.1)\n",
      "Requirement already satisfied: Jinja2>=2.10.1 in c:\\users\\jalvear\\anaconda3\\lib\\site-packages (from Flask>=1.0.4->dash) (2.11.3)\n",
      "Requirement already satisfied: click>=5.1 in c:\\users\\jalvear\\anaconda3\\lib\\site-packages (from Flask>=1.0.4->dash) (8.0.4)\n",
      "Requirement already satisfied: tenacity>=6.2.0 in c:\\users\\jalvear\\anaconda3\\lib\\site-packages (from plotly>=5.0.0->dash) (8.0.1)\n",
      "Requirement already satisfied: colorama in c:\\users\\jalvear\\anaconda3\\lib\\site-packages (from click>=5.1->Flask>=1.0.4->dash) (0.4.5)\n",
      "Requirement already satisfied: MarkupSafe>=0.23 in c:\\users\\jalvear\\anaconda3\\lib\\site-packages (from Jinja2>=2.10.1->Flask>=1.0.4->dash) (2.0.1)\n",
      "Installing collected packages: dash-table, dash-html-components, dash-core-components, dash\n",
      "Successfully installed dash-2.7.1 dash-core-components-2.0.0 dash-html-components-2.0.0 dash-table-5.0.0\n",
      "Requirement already satisfied: dash-html-components in c:\\users\\jalvear\\anaconda3\\lib\\site-packages (2.0.0)\n",
      "Requirement already satisfied: dash-core-components in c:\\users\\jalvear\\anaconda3\\lib\\site-packages (2.0.0)\n",
      "Requirement already satisfied: plotly in c:\\users\\jalvear\\anaconda3\\lib\\site-packages (5.9.0)\n",
      "Requirement already satisfied: tenacity>=6.2.0 in c:\\users\\jalvear\\anaconda3\\lib\\site-packages (from plotly) (8.0.1)\n"
     ]
    }
   ],
   "source": [
    "# Instalación de librerias para el desarrollo de Dashboard interactivos\n",
    "! pip install dash \n",
    "! pip install dash-html-components \n",
    "! pip install dash-core-components \n",
    "! pip install plotly \n",
    "\n",
    "#libreria principal para tener la logica del dashboard\n",
    "#Ayuda a estructurar html y nos ayudara a renderizarlo\n",
    "#Para que pueda renderizarse\n",
    "#el papa de dash (De donde salio)"
   ]
  },
  {
   "cell_type": "markdown",
   "id": "5266529c",
   "metadata": {},
   "source": [
    "## Grafico de burbujas"
   ]
  },
  {
   "cell_type": "code",
   "execution_count": 2,
   "id": "b6097272",
   "metadata": {},
   "outputs": [],
   "source": [
    "# Importamos las librerias\n",
    "import pandas as pd\n",
    "import plotly.offline as pyo\n",
    "import plotly.graph_objs as go\n"
   ]
  },
  {
   "cell_type": "code",
   "execution_count": 4,
   "id": "897adb98",
   "metadata": {},
   "outputs": [
    {
     "data": {
      "text/html": [
       "<div>\n",
       "<style scoped>\n",
       "    .dataframe tbody tr th:only-of-type {\n",
       "        vertical-align: middle;\n",
       "    }\n",
       "\n",
       "    .dataframe tbody tr th {\n",
       "        vertical-align: top;\n",
       "    }\n",
       "\n",
       "    .dataframe thead th {\n",
       "        text-align: right;\n",
       "    }\n",
       "</style>\n",
       "<table border=\"1\" class=\"dataframe\">\n",
       "  <thead>\n",
       "    <tr style=\"text-align: right;\">\n",
       "      <th></th>\n",
       "      <th>mpg</th>\n",
       "      <th>cylinders</th>\n",
       "      <th>displacement</th>\n",
       "      <th>horsepower</th>\n",
       "      <th>weight</th>\n",
       "      <th>acceleration</th>\n",
       "      <th>model_year</th>\n",
       "      <th>origin</th>\n",
       "      <th>name</th>\n",
       "    </tr>\n",
       "  </thead>\n",
       "  <tbody>\n",
       "    <tr>\n",
       "      <th>0</th>\n",
       "      <td>18.0</td>\n",
       "      <td>8</td>\n",
       "      <td>307.0</td>\n",
       "      <td>130</td>\n",
       "      <td>3504</td>\n",
       "      <td>12.0</td>\n",
       "      <td>70</td>\n",
       "      <td>1</td>\n",
       "      <td>chevrolet chevelle malibu</td>\n",
       "    </tr>\n",
       "    <tr>\n",
       "      <th>1</th>\n",
       "      <td>15.0</td>\n",
       "      <td>8</td>\n",
       "      <td>350.0</td>\n",
       "      <td>165</td>\n",
       "      <td>3693</td>\n",
       "      <td>11.5</td>\n",
       "      <td>70</td>\n",
       "      <td>1</td>\n",
       "      <td>buick skylark 320</td>\n",
       "    </tr>\n",
       "    <tr>\n",
       "      <th>2</th>\n",
       "      <td>18.0</td>\n",
       "      <td>8</td>\n",
       "      <td>318.0</td>\n",
       "      <td>150</td>\n",
       "      <td>3436</td>\n",
       "      <td>11.0</td>\n",
       "      <td>70</td>\n",
       "      <td>1</td>\n",
       "      <td>plymouth satellite</td>\n",
       "    </tr>\n",
       "    <tr>\n",
       "      <th>3</th>\n",
       "      <td>16.0</td>\n",
       "      <td>8</td>\n",
       "      <td>304.0</td>\n",
       "      <td>150</td>\n",
       "      <td>3433</td>\n",
       "      <td>12.0</td>\n",
       "      <td>70</td>\n",
       "      <td>1</td>\n",
       "      <td>amc rebel sst</td>\n",
       "    </tr>\n",
       "    <tr>\n",
       "      <th>4</th>\n",
       "      <td>17.0</td>\n",
       "      <td>8</td>\n",
       "      <td>302.0</td>\n",
       "      <td>140</td>\n",
       "      <td>3449</td>\n",
       "      <td>10.5</td>\n",
       "      <td>70</td>\n",
       "      <td>1</td>\n",
       "      <td>ford torino</td>\n",
       "    </tr>\n",
       "  </tbody>\n",
       "</table>\n",
       "</div>"
      ],
      "text/plain": [
       "    mpg  cylinders  displacement horsepower  weight  acceleration  model_year  \\\n",
       "0  18.0          8         307.0        130    3504          12.0          70   \n",
       "1  15.0          8         350.0        165    3693          11.5          70   \n",
       "2  18.0          8         318.0        150    3436          11.0          70   \n",
       "3  16.0          8         304.0        150    3433          12.0          70   \n",
       "4  17.0          8         302.0        140    3449          10.5          70   \n",
       "\n",
       "   origin                       name  \n",
       "0       1  chevrolet chevelle malibu  \n",
       "1       1          buick skylark 320  \n",
       "2       1         plymouth satellite  \n",
       "3       1              amc rebel sst  \n",
       "4       1                ford torino  "
      ]
     },
     "execution_count": 4,
     "metadata": {},
     "output_type": "execute_result"
    }
   ],
   "source": [
    "#Importamos los datos\n",
    "valores = pd.read_csv('base_de_datos_coches.csv')\n",
    "valores.head(5)"
   ]
  },
  {
   "cell_type": "code",
   "execution_count": 5,
   "id": "66f6dfbe",
   "metadata": {},
   "outputs": [],
   "source": [
    "datos = [go.Scatter(x=valores['horsepower'], y=valores['mpg'], \n",
    "                   text=valores['name'], mode='markers')] #Vamos a ver la correlación que existe entre las mismas\n",
    "#Jugar con las variables con mode"
   ]
  },
  {
   "cell_type": "code",
   "execution_count": 6,
   "id": "e7fde666",
   "metadata": {},
   "outputs": [
    {
     "data": {
      "text/plain": [
       "'temp-plot.html'"
      ]
     },
     "execution_count": 6,
     "metadata": {},
     "output_type": "execute_result"
    }
   ],
   "source": [
    "capa = go.Layout(title='Coches')  #Vamos a generar nuestro layout Nota: Recomendación tener diseñada la estructura antes de ponerla en producción\n",
    "figura = go.Figure(datos,capa)#Queremos que lo que declaramos aparezca\n",
    "pyo.plot(figura)"
   ]
  },
  {
   "cell_type": "markdown",
   "id": "672b4023",
   "metadata": {},
   "source": [
    "**Nos entrega enlace que podemos pegar en nuestro navegador, el cual nos sirve para visualizar en local el grafico**"
   ]
  },
  {
   "cell_type": "code",
   "execution_count": null,
   "id": "77a3eaf4",
   "metadata": {},
   "outputs": [],
   "source": []
  }
 ],
 "metadata": {
  "kernelspec": {
   "display_name": "Python 3 (ipykernel)",
   "language": "python",
   "name": "python3"
  },
  "language_info": {
   "codemirror_mode": {
    "name": "ipython",
    "version": 3
   },
   "file_extension": ".py",
   "mimetype": "text/x-python",
   "name": "python",
   "nbconvert_exporter": "python",
   "pygments_lexer": "ipython3",
   "version": "3.9.13"
  }
 },
 "nbformat": 4,
 "nbformat_minor": 5
}
