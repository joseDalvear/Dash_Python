{
 "cells": [
  {
   "cell_type": "markdown",
   "id": "5e8579ec",
   "metadata": {},
   "source": [
    "**Dashboard**"
   ]
  },
  {
   "cell_type": "code",
   "execution_count": 22,
   "id": "b0e61220",
   "metadata": {},
   "outputs": [
    {
     "name": "stdout",
     "output_type": "stream",
     "text": [
      "Requirement already satisfied: dash in c:\\users\\jalvear\\anaconda3\\lib\\site-packages (2.7.1)\n",
      "Requirement already satisfied: dash-html-components==2.0.0 in c:\\users\\jalvear\\anaconda3\\lib\\site-packages (from dash) (2.0.0)\n",
      "Requirement already satisfied: Flask>=1.0.4 in c:\\users\\jalvear\\anaconda3\\lib\\site-packages (from dash) (1.1.2)\n",
      "Requirement already satisfied: plotly>=5.0.0 in c:\\users\\jalvear\\anaconda3\\lib\\site-packages (from dash) (5.9.0)\n",
      "Requirement already satisfied: dash-core-components==2.0.0 in c:\\users\\jalvear\\anaconda3\\lib\\site-packages (from dash) (2.0.0)\n",
      "Requirement already satisfied: dash-table==5.0.0 in c:\\users\\jalvear\\anaconda3\\lib\\site-packages (from dash) (5.0.0)\n",
      "Requirement already satisfied: itsdangerous>=0.24 in c:\\users\\jalvear\\anaconda3\\lib\\site-packages (from Flask>=1.0.4->dash) (2.0.1)\n",
      "Requirement already satisfied: Jinja2>=2.10.1 in c:\\users\\jalvear\\anaconda3\\lib\\site-packages (from Flask>=1.0.4->dash) (2.11.3)\n",
      "Requirement already satisfied: Werkzeug>=0.15 in c:\\users\\jalvear\\anaconda3\\lib\\site-packages (from Flask>=1.0.4->dash) (2.0.3)\n",
      "Requirement already satisfied: click>=5.1 in c:\\users\\jalvear\\anaconda3\\lib\\site-packages (from Flask>=1.0.4->dash) (8.0.4)\n",
      "Requirement already satisfied: tenacity>=6.2.0 in c:\\users\\jalvear\\anaconda3\\lib\\site-packages (from plotly>=5.0.0->dash) (8.0.1)\n",
      "Requirement already satisfied: colorama in c:\\users\\jalvear\\anaconda3\\lib\\site-packages (from click>=5.1->Flask>=1.0.4->dash) (0.4.5)\n",
      "Requirement already satisfied: MarkupSafe>=0.23 in c:\\users\\jalvear\\anaconda3\\lib\\site-packages (from Jinja2>=2.10.1->Flask>=1.0.4->dash) (2.0.1)\n",
      "Requirement already satisfied: dash-html-components in c:\\users\\jalvear\\anaconda3\\lib\\site-packages (2.0.0)\n",
      "Requirement already satisfied: dash-core-components in c:\\users\\jalvear\\anaconda3\\lib\\site-packages (2.0.0)\n",
      "Requirement already satisfied: plotly in c:\\users\\jalvear\\anaconda3\\lib\\site-packages (5.9.0)\n",
      "Requirement already satisfied: tenacity>=6.2.0 in c:\\users\\jalvear\\anaconda3\\lib\\site-packages (from plotly) (8.0.1)\n"
     ]
    }
   ],
   "source": [
    "! pip install dash \n",
    "! pip install dash-html-components \n",
    "! pip install dash-core-components \n",
    "! pip install plotly "
   ]
  },
  {
   "cell_type": "code",
   "execution_count": 23,
   "id": "128701e5",
   "metadata": {},
   "outputs": [],
   "source": [
    "#Cargar librerias\n",
    "import pandas as pd\n",
    "import dash\n",
    "import dash_core_components as dcc\n",
    "import dash_html_components as html\n",
    "import plotly.graph_objs as go\n",
    "import numpy as np\n",
    "from dash.dependencies import Input, Output\n",
    "\n",
    "\n"
   ]
  },
  {
   "cell_type": "code",
   "execution_count": 24,
   "id": "47dfe365",
   "metadata": {},
   "outputs": [],
   "source": [
    "datos = pd.read_csv('base_de_datos_coches.csv')"
   ]
  },
  {
   "cell_type": "code",
   "execution_count": 25,
   "id": "13a75b57",
   "metadata": {},
   "outputs": [
    {
     "data": {
      "text/html": [
       "<div>\n",
       "<style scoped>\n",
       "    .dataframe tbody tr th:only-of-type {\n",
       "        vertical-align: middle;\n",
       "    }\n",
       "\n",
       "    .dataframe tbody tr th {\n",
       "        vertical-align: top;\n",
       "    }\n",
       "\n",
       "    .dataframe thead th {\n",
       "        text-align: right;\n",
       "    }\n",
       "</style>\n",
       "<table border=\"1\" class=\"dataframe\">\n",
       "  <thead>\n",
       "    <tr style=\"text-align: right;\">\n",
       "      <th></th>\n",
       "      <th>mpg</th>\n",
       "      <th>cylinders</th>\n",
       "      <th>displacement</th>\n",
       "      <th>horsepower</th>\n",
       "      <th>weight</th>\n",
       "      <th>acceleration</th>\n",
       "      <th>model_year</th>\n",
       "      <th>origin</th>\n",
       "      <th>name</th>\n",
       "    </tr>\n",
       "  </thead>\n",
       "  <tbody>\n",
       "    <tr>\n",
       "      <th>0</th>\n",
       "      <td>18.0</td>\n",
       "      <td>8</td>\n",
       "      <td>307.0</td>\n",
       "      <td>130</td>\n",
       "      <td>3504</td>\n",
       "      <td>12.0</td>\n",
       "      <td>70</td>\n",
       "      <td>1</td>\n",
       "      <td>chevrolet chevelle malibu</td>\n",
       "    </tr>\n",
       "    <tr>\n",
       "      <th>1</th>\n",
       "      <td>15.0</td>\n",
       "      <td>8</td>\n",
       "      <td>350.0</td>\n",
       "      <td>165</td>\n",
       "      <td>3693</td>\n",
       "      <td>11.5</td>\n",
       "      <td>70</td>\n",
       "      <td>1</td>\n",
       "      <td>buick skylark 320</td>\n",
       "    </tr>\n",
       "    <tr>\n",
       "      <th>2</th>\n",
       "      <td>18.0</td>\n",
       "      <td>8</td>\n",
       "      <td>318.0</td>\n",
       "      <td>150</td>\n",
       "      <td>3436</td>\n",
       "      <td>11.0</td>\n",
       "      <td>70</td>\n",
       "      <td>1</td>\n",
       "      <td>plymouth satellite</td>\n",
       "    </tr>\n",
       "    <tr>\n",
       "      <th>3</th>\n",
       "      <td>16.0</td>\n",
       "      <td>8</td>\n",
       "      <td>304.0</td>\n",
       "      <td>150</td>\n",
       "      <td>3433</td>\n",
       "      <td>12.0</td>\n",
       "      <td>70</td>\n",
       "      <td>1</td>\n",
       "      <td>amc rebel sst</td>\n",
       "    </tr>\n",
       "    <tr>\n",
       "      <th>4</th>\n",
       "      <td>17.0</td>\n",
       "      <td>8</td>\n",
       "      <td>302.0</td>\n",
       "      <td>140</td>\n",
       "      <td>3449</td>\n",
       "      <td>10.5</td>\n",
       "      <td>70</td>\n",
       "      <td>1</td>\n",
       "      <td>ford torino</td>\n",
       "    </tr>\n",
       "  </tbody>\n",
       "</table>\n",
       "</div>"
      ],
      "text/plain": [
       "    mpg  cylinders  displacement horsepower  weight  acceleration  model_year  \\\n",
       "0  18.0          8         307.0        130    3504          12.0          70   \n",
       "1  15.0          8         350.0        165    3693          11.5          70   \n",
       "2  18.0          8         318.0        150    3436          11.0          70   \n",
       "3  16.0          8         304.0        150    3433          12.0          70   \n",
       "4  17.0          8         302.0        140    3449          10.5          70   \n",
       "\n",
       "   origin                       name  \n",
       "0       1  chevrolet chevelle malibu  \n",
       "1       1          buick skylark 320  \n",
       "2       1         plymouth satellite  \n",
       "3       1              amc rebel sst  \n",
       "4       1                ford torino  "
      ]
     },
     "execution_count": 25,
     "metadata": {},
     "output_type": "execute_result"
    }
   ],
   "source": [
    "datos.head()"
   ]
  },
  {
   "cell_type": "code",
   "execution_count": 26,
   "id": "fd9ddc85",
   "metadata": {},
   "outputs": [
    {
     "data": {
      "text/plain": [
       "Index(['mpg', 'cylinders', 'displacement', 'horsepower', 'weight',\n",
       "       'acceleration', 'model_year', 'origin', 'name'],\n",
       "      dtype='object')"
      ]
     },
     "execution_count": 26,
     "metadata": {},
     "output_type": "execute_result"
    }
   ],
   "source": [
    "caracteristicas = datos.columns\n",
    "caracteristicas"
   ]
  },
  {
   "cell_type": "code",
   "execution_count": 27,
   "id": "cf067b90",
   "metadata": {},
   "outputs": [],
   "source": [
    "app = dash.Dash()"
   ]
  },
  {
   "cell_type": "code",
   "execution_count": 29,
   "id": "d77b36a5",
   "metadata": {},
   "outputs": [],
   "source": [
    "app.layout = html.Div([\n",
    "        html.Div([\n",
    "            dcc.Dropdown(id='selector1',\n",
    "                        options=[{'label':i, 'value':i} for i in caracteristicas],\n",
    "                        value='acceleration')          \n",
    "        ], style={'width':'48%','display':'inline-block'}),\n",
    "    \n",
    "        html.Div([\n",
    "            dcc.Dropdown(id='selector2',\n",
    "                        options=[{'label':i, 'value':i} for i in caracteristicas],\n",
    "                        value='mpg')          \n",
    "        ], style={'width':'48%','display':'inline-block'}),\n",
    "        \n",
    "    \n",
    "        dcc.Graph(id='grafico')\n",
    "    \n",
    "], style={'padding':14})\n",
    "\n",
    "\n"
   ]
  },
  {
   "cell_type": "code",
   "execution_count": 30,
   "id": "e0f5d7fd",
   "metadata": {},
   "outputs": [],
   "source": [
    "@app.callback(Output('grafico','figure'),\n",
    "            [Input('selector1','value'), \n",
    "            Input('selector2','value')])\n",
    "def actualizar(valor_selector1, valor_selector2):\n",
    "    return{\n",
    "        'data':[go.Scatter(x=datos[valor_selector1],\n",
    "                           y=datos[valor_selector2],\n",
    "                           text=datos['name'],\n",
    "                           mode='markers',\n",
    "                           marker={'size':14, 'opacity':0.6}\n",
    "                          )],\n",
    "        'layout':go.Layout(title='Gráfico de coches',\n",
    "                          xaxis={'title':valor_selector1},\n",
    "                          yaxis={'title':valor_selector2}\n",
    "                           \n",
    "                          )\n",
    "    }"
   ]
  },
  {
   "cell_type": "code",
   "execution_count": null,
   "id": "18648494",
   "metadata": {},
   "outputs": [
    {
     "name": "stdout",
     "output_type": "stream",
     "text": [
      "Dash is running on http://127.0.0.1:8050/\n",
      "\n",
      "Dash is running on http://127.0.0.1:8050/\n",
      "\n",
      "Dash is running on http://127.0.0.1:8050/\n",
      "\n",
      " * Serving Flask app \"__main__\" (lazy loading)\n",
      " * Environment: production\n",
      "\u001b[31m   WARNING: This is a development server. Do not use it in a production deployment.\u001b[0m\n",
      "\u001b[2m   Use a production WSGI server instead.\u001b[0m\n",
      " * Debug mode: off\n"
     ]
    },
    {
     "name": "stderr",
     "output_type": "stream",
     "text": [
      " * Running on http://127.0.0.1:8050/ (Press CTRL+C to quit)\n",
      "127.0.0.1 - - [13/Dec/2022 14:14:12] \"GET / HTTP/1.1\" 200 -\n",
      "127.0.0.1 - - [13/Dec/2022 14:14:12] \"GET /_dash-component-suites/dash/deps/react@16.v2_7_1m1670860984.14.0.min.js HTTP/1.1\" 200 -\n",
      "127.0.0.1 - - [13/Dec/2022 14:14:12] \"GET /_dash-component-suites/dash/deps/polyfill@7.v2_7_1m1670860984.12.1.min.js HTTP/1.1\" 200 -\n",
      "127.0.0.1 - - [13/Dec/2022 14:14:12] \"GET /_dash-component-suites/dash/deps/prop-types@15.v2_7_1m1670860984.8.1.min.js HTTP/1.1\" 200 -\n",
      "127.0.0.1 - - [13/Dec/2022 14:14:12] \"GET /_dash-component-suites/dash/dash-renderer/build/dash_renderer.v2_7_1m1670860983.min.js HTTP/1.1\" 200 -\n",
      "127.0.0.1 - - [13/Dec/2022 14:14:12] \"GET /_dash-component-suites/dash/deps/react-dom@16.v2_7_1m1670860984.14.0.min.js HTTP/1.1\" 200 -\n",
      "127.0.0.1 - - [13/Dec/2022 14:14:12] \"GET /_dash-component-suites/dash/dcc/dash_core_components.v2_7_1m1670860984.js HTTP/1.1\" 200 -\n",
      "127.0.0.1 - - [13/Dec/2022 14:14:12] \"GET /_dash-component-suites/dash/dcc/dash_core_components-shared.v2_7_1m1670860984.js HTTP/1.1\" 200 -\n",
      "127.0.0.1 - - [13/Dec/2022 14:14:12] \"GET /_dash-component-suites/dash/dash_table/bundle.v5_2_1m1670860983.js HTTP/1.1\" 200 -\n",
      "127.0.0.1 - - [13/Dec/2022 14:14:12] \"GET /_dash-component-suites/dash/html/dash_html_components.v2_0_7m1670860985.min.js HTTP/1.1\" 200 -\n",
      "127.0.0.1 - - [13/Dec/2022 14:14:12] \"GET /_dash-layout HTTP/1.1\" 200 -\n",
      "127.0.0.1 - - [13/Dec/2022 14:14:12] \"GET /_dash-dependencies HTTP/1.1\" 200 -\n",
      "127.0.0.1 - - [13/Dec/2022 14:14:12] \"GET /_favicon.ico?v=2.7.1 HTTP/1.1\" 200 -\n",
      "127.0.0.1 - - [13/Dec/2022 14:14:12] \"GET /_dash-component-suites/dash/dcc/async-graph.js HTTP/1.1\" 200 -\n",
      "127.0.0.1 - - [13/Dec/2022 14:14:12] \"GET /_dash-component-suites/dash/dcc/async-dropdown.js HTTP/1.1\" 200 -\n",
      "127.0.0.1 - - [13/Dec/2022 14:14:12] \"GET /_dash-component-suites/dash/dcc/async-plotlyjs.js HTTP/1.1\" 200 -\n",
      "127.0.0.1 - - [13/Dec/2022 14:14:12] \"POST /_dash-update-component HTTP/1.1\" 200 -\n",
      "127.0.0.1 - - [13/Dec/2022 14:14:17] \"POST /_dash-update-component HTTP/1.1\" 200 -\n",
      "127.0.0.1 - - [13/Dec/2022 14:14:19] \"POST /_dash-update-component HTTP/1.1\" 200 -\n",
      "127.0.0.1 - - [13/Dec/2022 14:14:23] \"POST /_dash-update-component HTTP/1.1\" 200 -\n"
     ]
    }
   ],
   "source": [
    "app.run_server()"
   ]
  }
 ],
 "metadata": {
  "kernelspec": {
   "display_name": "Python 3 (ipykernel)",
   "language": "python",
   "name": "python3"
  },
  "language_info": {
   "codemirror_mode": {
    "name": "ipython",
    "version": 3
   },
   "file_extension": ".py",
   "mimetype": "text/x-python",
   "name": "python",
   "nbconvert_exporter": "python",
   "pygments_lexer": "ipython3",
   "version": "3.9.13"
  }
 },
 "nbformat": 4,
 "nbformat_minor": 5
}
